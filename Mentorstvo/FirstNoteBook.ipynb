{
 "cells": [
  {
   "cell_type": "code",
   "execution_count": 21,
   "outputs": [],
   "source": [
    "from dwave.system import DWaveSampler, EmbeddingComposite"
   ],
   "metadata": {
    "collapsed": false,
    "pycharm": {
     "name": "#%%\n"
    }
   }
  },
  {
   "cell_type": "code",
   "execution_count": 22,
   "outputs": [],
   "source": [
    "Q = {('x1', 'x1'): 2, ('x2', 'x2'): 2, ('x1', 'x2'): 1, ('x1', 'z'): -3, ('x2', 'z'): -3, ('z', 'z'): 1}\n",
    "sampler = DWaveSampler()\n",
    "sampler_embedded = EmbeddingComposite(sampler)"
   ],
   "metadata": {
    "collapsed": false,
    "pycharm": {
     "name": "#%%\n"
    }
   }
  },
  {
   "cell_type": "code",
   "execution_count": 24,
   "outputs": [
    {
     "ename": "SolverFailureError",
     "evalue": "Problem not accepted because user oksanichenko.fedor@mail.ru has insufficient remaining solver access time in project DEV",
     "output_type": "error",
     "traceback": [
      "\u001B[1;31m---------------------------------------------------------------------------\u001B[0m",
      "\u001B[1;31mSolverFailureError\u001B[0m                        Traceback (most recent call last)",
      "\u001B[1;32m<ipython-input-24-42c263fd24df>\u001B[0m in \u001B[0;36m<module>\u001B[1;34m\u001B[0m\n\u001B[0;32m      1\u001B[0m \u001B[0msampleset\u001B[0m \u001B[1;33m=\u001B[0m \u001B[0msampler_embedded\u001B[0m\u001B[1;33m.\u001B[0m\u001B[0msample_qubo\u001B[0m\u001B[1;33m(\u001B[0m\u001B[0mQ\u001B[0m\u001B[1;33m,\u001B[0m \u001B[0mnum_reads\u001B[0m\u001B[1;33m=\u001B[0m\u001B[1;36m50\u001B[0m\u001B[1;33m)\u001B[0m\u001B[1;33m\u001B[0m\u001B[1;33m\u001B[0m\u001B[0m\n\u001B[1;32m----> 2\u001B[1;33m \u001B[0mprint\u001B[0m\u001B[1;33m(\u001B[0m\u001B[0msampleset\u001B[0m\u001B[1;33m)\u001B[0m\u001B[1;33m\u001B[0m\u001B[1;33m\u001B[0m\u001B[0m\n\u001B[0m\u001B[0;32m      3\u001B[0m \u001B[1;33m\u001B[0m\u001B[0m\n",
      "\u001B[1;32mc:\\users\\oksan\\gitflecs\\dwave\\venv\\lib\\site-packages\\dimod\\sampleset.py\u001B[0m in \u001B[0;36m__str__\u001B[1;34m(self)\u001B[0m\n\u001B[0;32m    783\u001B[0m \u001B[1;33m\u001B[0m\u001B[0m\n\u001B[0;32m    784\u001B[0m     \u001B[1;32mdef\u001B[0m \u001B[0m__str__\u001B[0m\u001B[1;33m(\u001B[0m\u001B[0mself\u001B[0m\u001B[1;33m)\u001B[0m\u001B[1;33m:\u001B[0m\u001B[1;33m\u001B[0m\u001B[1;33m\u001B[0m\u001B[0m\n\u001B[1;32m--> 785\u001B[1;33m         \u001B[1;32mreturn\u001B[0m \u001B[0mFormatter\u001B[0m\u001B[1;33m(\u001B[0m\u001B[1;33m)\u001B[0m\u001B[1;33m.\u001B[0m\u001B[0mformat\u001B[0m\u001B[1;33m(\u001B[0m\u001B[0mself\u001B[0m\u001B[1;33m)\u001B[0m\u001B[1;33m\u001B[0m\u001B[1;33m\u001B[0m\u001B[0m\n\u001B[0m\u001B[0;32m    786\u001B[0m \u001B[1;33m\u001B[0m\u001B[0m\n\u001B[0;32m    787\u001B[0m     \u001B[1;31m###############################################################################################\u001B[0m\u001B[1;33m\u001B[0m\u001B[1;33m\u001B[0m\u001B[1;33m\u001B[0m\u001B[0m\n",
      "\u001B[1;32mc:\\users\\oksan\\gitflecs\\dwave\\venv\\lib\\site-packages\\dimod\\serialization\\format.py\u001B[0m in \u001B[0;36mformat\u001B[1;34m(self, obj, **kwargs)\u001B[0m\n\u001B[0;32m    245\u001B[0m         \u001B[1;34m\"\"\"Return the formatted representation of the object as a string.\"\"\"\u001B[0m\u001B[1;33m\u001B[0m\u001B[1;33m\u001B[0m\u001B[0m\n\u001B[0;32m    246\u001B[0m         \u001B[0msio\u001B[0m \u001B[1;33m=\u001B[0m \u001B[0mStringIO\u001B[0m\u001B[1;33m(\u001B[0m\u001B[1;33m)\u001B[0m\u001B[1;33m\u001B[0m\u001B[1;33m\u001B[0m\u001B[0m\n\u001B[1;32m--> 247\u001B[1;33m         \u001B[0mself\u001B[0m\u001B[1;33m.\u001B[0m\u001B[0mfprint\u001B[0m\u001B[1;33m(\u001B[0m\u001B[0mobj\u001B[0m\u001B[1;33m,\u001B[0m \u001B[0mstream\u001B[0m\u001B[1;33m=\u001B[0m\u001B[0msio\u001B[0m\u001B[1;33m,\u001B[0m \u001B[1;33m**\u001B[0m\u001B[0mkwargs\u001B[0m\u001B[1;33m)\u001B[0m\u001B[1;33m\u001B[0m\u001B[1;33m\u001B[0m\u001B[0m\n\u001B[0m\u001B[0;32m    248\u001B[0m         \u001B[1;32mreturn\u001B[0m \u001B[0msio\u001B[0m\u001B[1;33m.\u001B[0m\u001B[0mgetvalue\u001B[0m\u001B[1;33m(\u001B[0m\u001B[1;33m)\u001B[0m\u001B[1;33m\u001B[0m\u001B[1;33m\u001B[0m\u001B[0m\n\u001B[0;32m    249\u001B[0m \u001B[1;33m\u001B[0m\u001B[0m\n",
      "\u001B[1;32mc:\\users\\oksan\\gitflecs\\dwave\\venv\\lib\\site-packages\\dimod\\serialization\\format.py\u001B[0m in \u001B[0;36mfprint\u001B[1;34m(self, obj, stream, **kwargs)\u001B[0m\n\u001B[0;32m    257\u001B[0m \u001B[1;33m\u001B[0m\u001B[0m\n\u001B[0;32m    258\u001B[0m         \u001B[1;32mif\u001B[0m \u001B[0misinstance\u001B[0m\u001B[1;33m(\u001B[0m\u001B[0mobj\u001B[0m\u001B[1;33m,\u001B[0m \u001B[0mdimod\u001B[0m\u001B[1;33m.\u001B[0m\u001B[0mSampleSet\u001B[0m\u001B[1;33m)\u001B[0m\u001B[1;33m:\u001B[0m\u001B[1;33m\u001B[0m\u001B[1;33m\u001B[0m\u001B[0m\n\u001B[1;32m--> 259\u001B[1;33m             \u001B[0mself\u001B[0m\u001B[1;33m.\u001B[0m\u001B[0m_print_sampleset\u001B[0m\u001B[1;33m(\u001B[0m\u001B[0mobj\u001B[0m\u001B[1;33m,\u001B[0m \u001B[0mstream\u001B[0m\u001B[1;33m,\u001B[0m \u001B[1;33m**\u001B[0m\u001B[0moptions\u001B[0m\u001B[1;33m)\u001B[0m\u001B[1;33m\u001B[0m\u001B[1;33m\u001B[0m\u001B[0m\n\u001B[0m\u001B[0;32m    260\u001B[0m             \u001B[1;32mreturn\u001B[0m\u001B[1;33m\u001B[0m\u001B[1;33m\u001B[0m\u001B[0m\n\u001B[0;32m    261\u001B[0m \u001B[1;33m\u001B[0m\u001B[0m\n",
      "\u001B[1;32mc:\\users\\oksan\\gitflecs\\dwave\\venv\\lib\\site-packages\\dimod\\serialization\\format.py\u001B[0m in \u001B[0;36m_print_sampleset\u001B[1;34m(self, sampleset, stream, width, depth, sorted_by, **other)\u001B[0m\n\u001B[0;32m    266\u001B[0m                          **other):\n\u001B[0;32m    267\u001B[0m \u001B[1;33m\u001B[0m\u001B[0m\n\u001B[1;32m--> 268\u001B[1;33m         \u001B[1;32mif\u001B[0m \u001B[0mlen\u001B[0m\u001B[1;33m(\u001B[0m\u001B[0msampleset\u001B[0m\u001B[1;33m)\u001B[0m \u001B[1;33m>\u001B[0m \u001B[1;36m0\u001B[0m\u001B[1;33m:\u001B[0m\u001B[1;33m\u001B[0m\u001B[1;33m\u001B[0m\u001B[0m\n\u001B[0m\u001B[0;32m    269\u001B[0m             \u001B[0mself\u001B[0m\u001B[1;33m.\u001B[0m\u001B[0m_print_samples\u001B[0m\u001B[1;33m(\u001B[0m\u001B[0msampleset\u001B[0m\u001B[1;33m,\u001B[0m \u001B[0mstream\u001B[0m\u001B[1;33m,\u001B[0m \u001B[0mwidth\u001B[0m\u001B[1;33m,\u001B[0m \u001B[0mdepth\u001B[0m\u001B[1;33m,\u001B[0m \u001B[0msorted_by\u001B[0m\u001B[1;33m)\u001B[0m\u001B[1;33m\u001B[0m\u001B[1;33m\u001B[0m\u001B[0m\n\u001B[0;32m    270\u001B[0m         \u001B[1;32melse\u001B[0m\u001B[1;33m:\u001B[0m\u001B[1;33m\u001B[0m\u001B[1;33m\u001B[0m\u001B[0m\n",
      "\u001B[1;32mc:\\users\\oksan\\gitflecs\\dwave\\venv\\lib\\site-packages\\dimod\\sampleset.py\u001B[0m in \u001B[0;36m__len__\u001B[1;34m(self)\u001B[0m\n\u001B[0;32m    731\u001B[0m     \u001B[1;32mdef\u001B[0m \u001B[0m__len__\u001B[0m\u001B[1;33m(\u001B[0m\u001B[0mself\u001B[0m\u001B[1;33m)\u001B[0m\u001B[1;33m:\u001B[0m\u001B[1;33m\u001B[0m\u001B[1;33m\u001B[0m\u001B[0m\n\u001B[0;32m    732\u001B[0m         \u001B[1;34m\"\"\"The number of rows in record.\"\"\"\u001B[0m\u001B[1;33m\u001B[0m\u001B[1;33m\u001B[0m\u001B[0m\n\u001B[1;32m--> 733\u001B[1;33m         \u001B[1;32mreturn\u001B[0m \u001B[0mself\u001B[0m\u001B[1;33m.\u001B[0m\u001B[0mrecord\u001B[0m\u001B[1;33m.\u001B[0m\u001B[0m__len__\u001B[0m\u001B[1;33m(\u001B[0m\u001B[1;33m)\u001B[0m\u001B[1;33m\u001B[0m\u001B[1;33m\u001B[0m\u001B[0m\n\u001B[0m\u001B[0;32m    734\u001B[0m \u001B[1;33m\u001B[0m\u001B[0m\n\u001B[0;32m    735\u001B[0m     \u001B[1;32mdef\u001B[0m \u001B[0m__iter__\u001B[0m\u001B[1;33m(\u001B[0m\u001B[0mself\u001B[0m\u001B[1;33m)\u001B[0m\u001B[1;33m:\u001B[0m\u001B[1;33m\u001B[0m\u001B[1;33m\u001B[0m\u001B[0m\n",
      "\u001B[1;32mc:\\users\\oksan\\gitflecs\\dwave\\venv\\lib\\site-packages\\dimod\\sampleset.py\u001B[0m in \u001B[0;36mrecord\u001B[1;34m(self)\u001B[0m\n\u001B[0;32m    871\u001B[0m \u001B[1;33m\u001B[0m\u001B[0m\n\u001B[0;32m    872\u001B[0m         \"\"\"\n\u001B[1;32m--> 873\u001B[1;33m         \u001B[0mself\u001B[0m\u001B[1;33m.\u001B[0m\u001B[0mresolve\u001B[0m\u001B[1;33m(\u001B[0m\u001B[1;33m)\u001B[0m\u001B[1;33m\u001B[0m\u001B[1;33m\u001B[0m\u001B[0m\n\u001B[0m\u001B[0;32m    874\u001B[0m         \u001B[1;32mreturn\u001B[0m \u001B[0mself\u001B[0m\u001B[1;33m.\u001B[0m\u001B[0m_record\u001B[0m\u001B[1;33m\u001B[0m\u001B[1;33m\u001B[0m\u001B[0m\n\u001B[0;32m    875\u001B[0m \u001B[1;33m\u001B[0m\u001B[0m\n",
      "\u001B[1;32mc:\\users\\oksan\\gitflecs\\dwave\\venv\\lib\\site-packages\\dimod\\sampleset.py\u001B[0m in \u001B[0;36mresolve\u001B[1;34m(self)\u001B[0m\n\u001B[0;32m   1206\u001B[0m         \u001B[1;31m# if it doesn't have the attribute then it is already resolved\u001B[0m\u001B[1;33m\u001B[0m\u001B[1;33m\u001B[0m\u001B[1;33m\u001B[0m\u001B[0m\n\u001B[0;32m   1207\u001B[0m         \u001B[1;32mif\u001B[0m \u001B[0mhasattr\u001B[0m\u001B[1;33m(\u001B[0m\u001B[0mself\u001B[0m\u001B[1;33m,\u001B[0m \u001B[1;34m'_future'\u001B[0m\u001B[1;33m)\u001B[0m\u001B[1;33m:\u001B[0m\u001B[1;33m\u001B[0m\u001B[1;33m\u001B[0m\u001B[0m\n\u001B[1;32m-> 1208\u001B[1;33m             \u001B[0msamples\u001B[0m \u001B[1;33m=\u001B[0m \u001B[0mself\u001B[0m\u001B[1;33m.\u001B[0m\u001B[0m_result_hook\u001B[0m\u001B[1;33m(\u001B[0m\u001B[0mself\u001B[0m\u001B[1;33m.\u001B[0m\u001B[0m_future\u001B[0m\u001B[1;33m)\u001B[0m\u001B[1;33m\u001B[0m\u001B[1;33m\u001B[0m\u001B[0m\n\u001B[0m\u001B[0;32m   1209\u001B[0m             \u001B[0mself\u001B[0m\u001B[1;33m.\u001B[0m\u001B[0m__init__\u001B[0m\u001B[1;33m(\u001B[0m\u001B[0msamples\u001B[0m\u001B[1;33m.\u001B[0m\u001B[0mrecord\u001B[0m\u001B[1;33m,\u001B[0m \u001B[0msamples\u001B[0m\u001B[1;33m.\u001B[0m\u001B[0mvariables\u001B[0m\u001B[1;33m,\u001B[0m \u001B[0msamples\u001B[0m\u001B[1;33m.\u001B[0m\u001B[0minfo\u001B[0m\u001B[1;33m,\u001B[0m \u001B[0msamples\u001B[0m\u001B[1;33m.\u001B[0m\u001B[0mvartype\u001B[0m\u001B[1;33m)\u001B[0m\u001B[1;33m\u001B[0m\u001B[1;33m\u001B[0m\u001B[0m\n\u001B[0;32m   1210\u001B[0m             \u001B[1;32mdel\u001B[0m \u001B[0mself\u001B[0m\u001B[1;33m.\u001B[0m\u001B[0m_future\u001B[0m\u001B[1;33m\u001B[0m\u001B[1;33m\u001B[0m\u001B[0m\n",
      "\u001B[1;32mc:\\users\\oksan\\gitflecs\\dwave\\venv\\lib\\site-packages\\dwave\\system\\composites\\embedding.py\u001B[0m in \u001B[0;36masync_unembed\u001B[1;34m(response)\u001B[0m\n\u001B[0;32m    287\u001B[0m                                           \u001B[0mchain_break_method\u001B[0m\u001B[1;33m=\u001B[0m\u001B[0mchain_break_method\u001B[0m\u001B[1;33m,\u001B[0m\u001B[1;33m\u001B[0m\u001B[1;33m\u001B[0m\u001B[0m\n\u001B[0;32m    288\u001B[0m                                           \u001B[0mchain_break_fraction\u001B[0m\u001B[1;33m=\u001B[0m\u001B[0mchain_break_fraction\u001B[0m\u001B[1;33m,\u001B[0m\u001B[1;33m\u001B[0m\u001B[1;33m\u001B[0m\u001B[0m\n\u001B[1;32m--> 289\u001B[1;33m                                           return_embedding=return_embedding)\n\u001B[0m\u001B[0;32m    290\u001B[0m \u001B[1;33m\u001B[0m\u001B[0m\n\u001B[0;32m    291\u001B[0m             \u001B[1;32mif\u001B[0m \u001B[0mreturn_embedding\u001B[0m\u001B[1;33m:\u001B[0m\u001B[1;33m\u001B[0m\u001B[1;33m\u001B[0m\u001B[0m\n",
      "\u001B[1;32mc:\\users\\oksan\\gitflecs\\dwave\\venv\\lib\\site-packages\\dwave\\embedding\\transforms.py\u001B[0m in \u001B[0;36munembed_sampleset\u001B[1;34m(target_sampleset, embedding, source_bqm, chain_break_method, chain_break_fraction, return_embedding)\u001B[0m\n\u001B[0;32m    616\u001B[0m         \u001B[1;32mraise\u001B[0m \u001B[0mValueError\u001B[0m\u001B[1;33m(\u001B[0m\u001B[1;34m\"given bqm does not match the embedding\"\u001B[0m\u001B[1;33m)\u001B[0m\u001B[1;33m\u001B[0m\u001B[1;33m\u001B[0m\u001B[0m\n\u001B[0;32m    617\u001B[0m \u001B[1;33m\u001B[0m\u001B[0m\n\u001B[1;32m--> 618\u001B[1;33m     \u001B[0mrecord\u001B[0m \u001B[1;33m=\u001B[0m \u001B[0mtarget_sampleset\u001B[0m\u001B[1;33m.\u001B[0m\u001B[0mrecord\u001B[0m\u001B[1;33m\u001B[0m\u001B[1;33m\u001B[0m\u001B[0m\n\u001B[0m\u001B[0;32m    619\u001B[0m \u001B[1;33m\u001B[0m\u001B[0m\n\u001B[0;32m    620\u001B[0m     \u001B[0munembedded\u001B[0m\u001B[1;33m,\u001B[0m \u001B[0midxs\u001B[0m \u001B[1;33m=\u001B[0m \u001B[0mchain_break_method\u001B[0m\u001B[1;33m(\u001B[0m\u001B[0mtarget_sampleset\u001B[0m\u001B[1;33m,\u001B[0m \u001B[0mchains\u001B[0m\u001B[1;33m)\u001B[0m\u001B[1;33m\u001B[0m\u001B[1;33m\u001B[0m\u001B[0m\n",
      "\u001B[1;32mc:\\users\\oksan\\gitflecs\\dwave\\venv\\lib\\site-packages\\dimod\\sampleset.py\u001B[0m in \u001B[0;36mrecord\u001B[1;34m(self)\u001B[0m\n\u001B[0;32m    871\u001B[0m \u001B[1;33m\u001B[0m\u001B[0m\n\u001B[0;32m    872\u001B[0m         \"\"\"\n\u001B[1;32m--> 873\u001B[1;33m         \u001B[0mself\u001B[0m\u001B[1;33m.\u001B[0m\u001B[0mresolve\u001B[0m\u001B[1;33m(\u001B[0m\u001B[1;33m)\u001B[0m\u001B[1;33m\u001B[0m\u001B[1;33m\u001B[0m\u001B[0m\n\u001B[0m\u001B[0;32m    874\u001B[0m         \u001B[1;32mreturn\u001B[0m \u001B[0mself\u001B[0m\u001B[1;33m.\u001B[0m\u001B[0m_record\u001B[0m\u001B[1;33m\u001B[0m\u001B[1;33m\u001B[0m\u001B[0m\n\u001B[0;32m    875\u001B[0m \u001B[1;33m\u001B[0m\u001B[0m\n",
      "\u001B[1;32mc:\\users\\oksan\\gitflecs\\dwave\\venv\\lib\\site-packages\\dimod\\sampleset.py\u001B[0m in \u001B[0;36mresolve\u001B[1;34m(self)\u001B[0m\n\u001B[0;32m   1207\u001B[0m         \u001B[1;32mif\u001B[0m \u001B[0mhasattr\u001B[0m\u001B[1;33m(\u001B[0m\u001B[0mself\u001B[0m\u001B[1;33m,\u001B[0m \u001B[1;34m'_future'\u001B[0m\u001B[1;33m)\u001B[0m\u001B[1;33m:\u001B[0m\u001B[1;33m\u001B[0m\u001B[1;33m\u001B[0m\u001B[0m\n\u001B[0;32m   1208\u001B[0m             \u001B[0msamples\u001B[0m \u001B[1;33m=\u001B[0m \u001B[0mself\u001B[0m\u001B[1;33m.\u001B[0m\u001B[0m_result_hook\u001B[0m\u001B[1;33m(\u001B[0m\u001B[0mself\u001B[0m\u001B[1;33m.\u001B[0m\u001B[0m_future\u001B[0m\u001B[1;33m)\u001B[0m\u001B[1;33m\u001B[0m\u001B[1;33m\u001B[0m\u001B[0m\n\u001B[1;32m-> 1209\u001B[1;33m             \u001B[0mself\u001B[0m\u001B[1;33m.\u001B[0m\u001B[0m__init__\u001B[0m\u001B[1;33m(\u001B[0m\u001B[0msamples\u001B[0m\u001B[1;33m.\u001B[0m\u001B[0mrecord\u001B[0m\u001B[1;33m,\u001B[0m \u001B[0msamples\u001B[0m\u001B[1;33m.\u001B[0m\u001B[0mvariables\u001B[0m\u001B[1;33m,\u001B[0m \u001B[0msamples\u001B[0m\u001B[1;33m.\u001B[0m\u001B[0minfo\u001B[0m\u001B[1;33m,\u001B[0m \u001B[0msamples\u001B[0m\u001B[1;33m.\u001B[0m\u001B[0mvartype\u001B[0m\u001B[1;33m)\u001B[0m\u001B[1;33m\u001B[0m\u001B[1;33m\u001B[0m\u001B[0m\n\u001B[0m\u001B[0;32m   1210\u001B[0m             \u001B[1;32mdel\u001B[0m \u001B[0mself\u001B[0m\u001B[1;33m.\u001B[0m\u001B[0m_future\u001B[0m\u001B[1;33m\u001B[0m\u001B[1;33m\u001B[0m\u001B[0m\n\u001B[0;32m   1211\u001B[0m             \u001B[1;32mdel\u001B[0m \u001B[0mself\u001B[0m\u001B[1;33m.\u001B[0m\u001B[0m_result_hook\u001B[0m\u001B[1;33m\u001B[0m\u001B[1;33m\u001B[0m\u001B[0m\n",
      "\u001B[1;32mc:\\users\\oksan\\gitflecs\\dwave\\venv\\lib\\site-packages\\dimod\\sampleset.py\u001B[0m in \u001B[0;36mrecord\u001B[1;34m(self)\u001B[0m\n\u001B[0;32m    871\u001B[0m \u001B[1;33m\u001B[0m\u001B[0m\n\u001B[0;32m    872\u001B[0m         \"\"\"\n\u001B[1;32m--> 873\u001B[1;33m         \u001B[0mself\u001B[0m\u001B[1;33m.\u001B[0m\u001B[0mresolve\u001B[0m\u001B[1;33m(\u001B[0m\u001B[1;33m)\u001B[0m\u001B[1;33m\u001B[0m\u001B[1;33m\u001B[0m\u001B[0m\n\u001B[0m\u001B[0;32m    874\u001B[0m         \u001B[1;32mreturn\u001B[0m \u001B[0mself\u001B[0m\u001B[1;33m.\u001B[0m\u001B[0m_record\u001B[0m\u001B[1;33m\u001B[0m\u001B[1;33m\u001B[0m\u001B[0m\n\u001B[0;32m    875\u001B[0m \u001B[1;33m\u001B[0m\u001B[0m\n",
      "\u001B[1;32mc:\\users\\oksan\\gitflecs\\dwave\\venv\\lib\\site-packages\\dimod\\sampleset.py\u001B[0m in \u001B[0;36mresolve\u001B[1;34m(self)\u001B[0m\n\u001B[0;32m   1206\u001B[0m         \u001B[1;31m# if it doesn't have the attribute then it is already resolved\u001B[0m\u001B[1;33m\u001B[0m\u001B[1;33m\u001B[0m\u001B[1;33m\u001B[0m\u001B[0m\n\u001B[0;32m   1207\u001B[0m         \u001B[1;32mif\u001B[0m \u001B[0mhasattr\u001B[0m\u001B[1;33m(\u001B[0m\u001B[0mself\u001B[0m\u001B[1;33m,\u001B[0m \u001B[1;34m'_future'\u001B[0m\u001B[1;33m)\u001B[0m\u001B[1;33m:\u001B[0m\u001B[1;33m\u001B[0m\u001B[1;33m\u001B[0m\u001B[0m\n\u001B[1;32m-> 1208\u001B[1;33m             \u001B[0msamples\u001B[0m \u001B[1;33m=\u001B[0m \u001B[0mself\u001B[0m\u001B[1;33m.\u001B[0m\u001B[0m_result_hook\u001B[0m\u001B[1;33m(\u001B[0m\u001B[0mself\u001B[0m\u001B[1;33m.\u001B[0m\u001B[0m_future\u001B[0m\u001B[1;33m)\u001B[0m\u001B[1;33m\u001B[0m\u001B[1;33m\u001B[0m\u001B[0m\n\u001B[0m\u001B[0;32m   1209\u001B[0m             \u001B[0mself\u001B[0m\u001B[1;33m.\u001B[0m\u001B[0m__init__\u001B[0m\u001B[1;33m(\u001B[0m\u001B[0msamples\u001B[0m\u001B[1;33m.\u001B[0m\u001B[0mrecord\u001B[0m\u001B[1;33m,\u001B[0m \u001B[0msamples\u001B[0m\u001B[1;33m.\u001B[0m\u001B[0mvariables\u001B[0m\u001B[1;33m,\u001B[0m \u001B[0msamples\u001B[0m\u001B[1;33m.\u001B[0m\u001B[0minfo\u001B[0m\u001B[1;33m,\u001B[0m \u001B[0msamples\u001B[0m\u001B[1;33m.\u001B[0m\u001B[0mvartype\u001B[0m\u001B[1;33m)\u001B[0m\u001B[1;33m\u001B[0m\u001B[1;33m\u001B[0m\u001B[0m\n\u001B[0;32m   1210\u001B[0m             \u001B[1;32mdel\u001B[0m \u001B[0mself\u001B[0m\u001B[1;33m.\u001B[0m\u001B[0m_future\u001B[0m\u001B[1;33m\u001B[0m\u001B[1;33m\u001B[0m\u001B[0m\n",
      "\u001B[1;32mc:\\users\\oksan\\gitflecs\\dwave\\venv\\lib\\site-packages\\dwave\\cloud\\computation.py\u001B[0m in \u001B[0;36m<lambda>\u001B[1;34m(f)\u001B[0m\n\u001B[0;32m    834\u001B[0m \u001B[1;33m\u001B[0m\u001B[0m\n\u001B[0;32m    835\u001B[0m         self._sampleset = sampleset = dimod.SampleSet.from_future(\n\u001B[1;32m--> 836\u001B[1;33m             self, lambda f: f.wait_sampleset())\n\u001B[0m\u001B[0;32m    837\u001B[0m \u001B[1;33m\u001B[0m\u001B[0m\n\u001B[0;32m    838\u001B[0m         \u001B[1;32mreturn\u001B[0m \u001B[0msampleset\u001B[0m\u001B[1;33m\u001B[0m\u001B[1;33m\u001B[0m\u001B[0m\n",
      "\u001B[1;32mc:\\users\\oksan\\gitflecs\\dwave\\venv\\lib\\site-packages\\dwave\\cloud\\computation.py\u001B[0m in \u001B[0;36mwait_sampleset\u001B[1;34m(self)\u001B[0m\n\u001B[0;32m    774\u001B[0m \u001B[1;33m\u001B[0m\u001B[0m\n\u001B[0;32m    775\u001B[0m         \u001B[1;31m# blocking result get\u001B[0m\u001B[1;33m\u001B[0m\u001B[1;33m\u001B[0m\u001B[1;33m\u001B[0m\u001B[0m\n\u001B[1;32m--> 776\u001B[1;33m         \u001B[0mresult\u001B[0m \u001B[1;33m=\u001B[0m \u001B[0mself\u001B[0m\u001B[1;33m.\u001B[0m\u001B[0m_load_result\u001B[0m\u001B[1;33m(\u001B[0m\u001B[1;33m)\u001B[0m\u001B[1;33m\u001B[0m\u001B[1;33m\u001B[0m\u001B[0m\n\u001B[0m\u001B[0;32m    777\u001B[0m \u001B[1;33m\u001B[0m\u001B[0m\n\u001B[0;32m    778\u001B[0m         \u001B[1;31m# common problem info: id/label\u001B[0m\u001B[1;33m\u001B[0m\u001B[1;33m\u001B[0m\u001B[1;33m\u001B[0m\u001B[0m\n",
      "\u001B[1;32mc:\\users\\oksan\\gitflecs\\dwave\\venv\\lib\\site-packages\\dwave\\cloud\\computation.py\u001B[0m in \u001B[0;36m_load_result\u001B[1;34m(self)\u001B[0m\n\u001B[0;32m    899\u001B[0m             \u001B[1;31m# Check for other error conditions\u001B[0m\u001B[1;33m\u001B[0m\u001B[1;33m\u001B[0m\u001B[1;33m\u001B[0m\u001B[0m\n\u001B[0;32m    900\u001B[0m             \u001B[1;32mif\u001B[0m \u001B[0mself\u001B[0m\u001B[1;33m.\u001B[0m\u001B[0m_exception\u001B[0m \u001B[1;32mis\u001B[0m \u001B[1;32mnot\u001B[0m \u001B[1;32mNone\u001B[0m\u001B[1;33m:\u001B[0m\u001B[1;33m\u001B[0m\u001B[1;33m\u001B[0m\u001B[0m\n\u001B[1;32m--> 901\u001B[1;33m                 \u001B[1;32mraise\u001B[0m \u001B[0mself\u001B[0m\u001B[1;33m.\u001B[0m\u001B[0m_exception\u001B[0m\u001B[1;33m\u001B[0m\u001B[1;33m\u001B[0m\u001B[0m\n\u001B[0m\u001B[0;32m    902\u001B[0m \u001B[1;33m\u001B[0m\u001B[0m\n\u001B[0;32m    903\u001B[0m             \u001B[1;31m# If someone else took care of this while we were waiting\u001B[0m\u001B[1;33m\u001B[0m\u001B[1;33m\u001B[0m\u001B[1;33m\u001B[0m\u001B[0m\n",
      "\u001B[1;32mc:\\users\\oksan\\gitflecs\\dwave\\venv\\lib\\site-packages\\dwave\\cloud\\client.py\u001B[0m in \u001B[0;36m_handle_problem_status\u001B[1;34m(self, message, future)\u001B[0m\n\u001B[0;32m   1279\u001B[0m             \u001B[1;31m# Handle errors in batch mode\u001B[0m\u001B[1;33m\u001B[0m\u001B[1;33m\u001B[0m\u001B[1;33m\u001B[0m\u001B[0m\n\u001B[0;32m   1280\u001B[0m             \u001B[1;32mif\u001B[0m \u001B[1;34m'error_code'\u001B[0m \u001B[1;32min\u001B[0m \u001B[0mmessage\u001B[0m \u001B[1;32mand\u001B[0m \u001B[1;34m'error_msg'\u001B[0m \u001B[1;32min\u001B[0m \u001B[0mmessage\u001B[0m\u001B[1;33m:\u001B[0m\u001B[1;33m\u001B[0m\u001B[1;33m\u001B[0m\u001B[0m\n\u001B[1;32m-> 1281\u001B[1;33m                 \u001B[1;32mraise\u001B[0m \u001B[0mSolverFailureError\u001B[0m\u001B[1;33m(\u001B[0m\u001B[0mmessage\u001B[0m\u001B[1;33m[\u001B[0m\u001B[1;34m'error_msg'\u001B[0m\u001B[1;33m]\u001B[0m\u001B[1;33m)\u001B[0m\u001B[1;33m\u001B[0m\u001B[1;33m\u001B[0m\u001B[0m\n\u001B[0m\u001B[0;32m   1282\u001B[0m \u001B[1;33m\u001B[0m\u001B[0m\n\u001B[0;32m   1283\u001B[0m             \u001B[1;32mif\u001B[0m \u001B[1;34m'status'\u001B[0m \u001B[1;32mnot\u001B[0m \u001B[1;32min\u001B[0m \u001B[0mmessage\u001B[0m\u001B[1;33m:\u001B[0m\u001B[1;33m\u001B[0m\u001B[1;33m\u001B[0m\u001B[0m\n",
      "\u001B[1;31mSolverFailureError\u001B[0m: Problem not accepted because user oksanichenko.fedor@mail.ru has insufficient remaining solver access time in project DEV"
     ]
    }
   ],
   "source": [
    "sampleset = sampler_embedded.sample_qubo(Q, num_reads=50)\n",
    "print(sampleset)"
   ],
   "metadata": {
    "collapsed": false,
    "pycharm": {
     "name": "#%%\n"
    }
   }
  },
  {
   "cell_type": "code",
   "execution_count": 5,
   "outputs": [],
   "source": [
    "Q = {('x1', 'x1'): 2, ('x2', 'x2'): 2, ('x1', 'x2'): -1, ('x1', 'z'): -1, ('x2', 'z'): -1, ('z', 'z'): 2}\n",
    "sampler = DWaveSampler()\n",
    "sampler_embedded = EmbeddingComposite(sampler)\n"
   ],
   "metadata": {
    "collapsed": false,
    "pycharm": {
     "name": "#%%\n"
    }
   }
  },
  {
   "cell_type": "code",
   "execution_count": 6,
   "outputs": [
    {
     "name": "stdout",
     "output_type": "stream",
     "text": [
      "  x1 x2  z energy num_oc. chain_.\n",
      "0  0  0  0    0.0     500     0.0\n",
      "['BINARY', 1 rows, 500 samples, 3 variables]\n"
     ]
    }
   ],
   "source": [
    "sampleset = sampler_embedded.sample_qubo(Q, num_reads=500)\n",
    "print(sampleset)"
   ],
   "metadata": {
    "collapsed": false,
    "pycharm": {
     "name": "#%%\n"
    }
   }
  },
  {
   "cell_type": "code",
   "execution_count": 32,
   "outputs": [
    {
     "name": "stdout",
     "output_type": "stream",
     "text": [
      "[[1 2 3]]\n",
      "[[1 2 3]\n",
      " [2 4 6]\n",
      " [3 6 9]]\n",
      "[[0. 1. 1. 1. 1. 1. 1. 1. 1. 1.]\n",
      " [0. 0. 1. 1. 1. 1. 1. 1. 1. 1.]\n",
      " [0. 0. 0. 1. 1. 1. 1. 1. 1. 1.]\n",
      " [0. 0. 0. 0. 1. 1. 1. 1. 1. 1.]\n",
      " [0. 0. 0. 0. 0. 1. 1. 1. 1. 1.]\n",
      " [0. 0. 0. 0. 0. 0. 1. 1. 1. 1.]\n",
      " [0. 0. 0. 0. 0. 0. 0. 1. 1. 1.]\n",
      " [0. 0. 0. 0. 0. 0. 0. 0. 1. 1.]\n",
      " [0. 0. 0. 0. 0. 0. 0. 0. 0. 1.]\n",
      " [0. 0. 0. 0. 0. 0. 0. 0. 0. 0.]]\n"
     ]
    }
   ],
   "source": [
    "import numpy as np\n",
    "A = np.array([[1,2,3],[3,4,3]])\n",
    "print((A[0]).reshape(1,3))\n",
    "print(np.dot((A[0]).reshape(3,1),(A[0]).reshape(1,3)))\n",
    "B = np.zeros((10,10))\n",
    "for i in range(10):\n",
    "    for j in range(i+1,10):\n",
    "        B[i,j] = 1\n",
    "print(B)"
   ],
   "metadata": {
    "collapsed": false,
    "pycharm": {
     "name": "#%%\n"
    }
   }
  }
 ],
 "metadata": {
  "kernelspec": {
   "display_name": "Python 3",
   "language": "python",
   "name": "python3"
  },
  "language_info": {
   "codemirror_mode": {
    "name": "ipython",
    "version": 2
   },
   "file_extension": ".py",
   "mimetype": "text/x-python",
   "name": "python",
   "nbconvert_exporter": "python",
   "pygments_lexer": "ipython2",
   "version": "2.7.6"
  }
 },
 "nbformat": 4,
 "nbformat_minor": 0
}