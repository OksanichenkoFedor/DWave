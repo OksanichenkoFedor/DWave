{
 "cells": [
  {
   "cell_type": "code",
   "execution_count": 55,
   "metadata": {},
   "outputs": [],
   "source": [
    "file = open(\"Udobno.txt\",\"r\")"
   ]
  },
  {
   "cell_type": "code",
   "execution_count": 56,
   "metadata": {},
   "outputs": [],
   "source": [
    "data_sets = []\n",
    "data_names = []"
   ]
  },
  {
   "cell_type": "code",
   "execution_count": 57,
   "metadata": {},
   "outputs": [],
   "source": [
    "for i in range(8):\n",
    "    line = file.readline()\n",
    "    data_names.append(line)\n",
    "    line = file.readline()\n",
    "    n_d_s = []\n",
    "    for i in range(29337):\n",
    "        n_d_s.append((file.readline()).split()[-1])\n",
    "    data_sets.append(n_d_s)\n",
    "    line = file.readline()"
   ]
  },
  {
   "cell_type": "code",
   "execution_count": 58,
   "metadata": {
    "scrolled": true
   },
   "outputs": [
    {
     "data": {
      "text/plain": [
       "['Gene Expression Omnibus (GEO)\\n',\n",
       " 'Max at 100 nM concentration\\n',\n",
       " '!Sample_title = c-Myc at 1 uM concentration and Max at 100 nM concentration, replicate 1\\n',\n",
       " 'Mad2 at 1 uM concentration and Max at 100 nM concentration\\n',\n",
       " 'c-Myc at 1 uM concentration and Max at 100 nM concentration, replicate 2\\n',\n",
       " 'Max at 100nM concentration\\n',\n",
       " 'c-Myc at 1uM concentration and Max at 100nM concentration\\n',\n",
       " 'Mad1 at 1uM concentration and Max at 100nM concentration\\n']"
      ]
     },
     "execution_count": 58,
     "metadata": {},
     "output_type": "execute_result"
    }
   ],
   "source": [
    "data_names"
   ]
  },
  {
   "cell_type": "code",
   "execution_count": 60,
   "metadata": {},
   "outputs": [
    {
     "data": {
      "text/plain": [
       "'GTCAAGAGCAGTAAGCACGTGGGTAGCTGGCTAAGG'"
      ]
     },
     "execution_count": 60,
     "metadata": {},
     "output_type": "execute_result"
    }
   ],
   "source": [
    "data_sets[0][-1]"
   ]
  },
  {
   "cell_type": "code",
   "execution_count": 61,
   "metadata": {},
   "outputs": [],
   "source": [
    "df = {}\n",
    "for i in range(8):\n",
    "    df[data_names[i]] = data_sets[i]"
   ]
  },
  {
   "cell_type": "code",
   "execution_count": null,
   "metadata": {},
   "outputs": [],
   "source": [
    "import pa"
   ]
  }
 ],
 "metadata": {
  "kernelspec": {
   "display_name": "Python 3",
   "language": "python",
   "name": "python3"
  },
  "language_info": {
   "codemirror_mode": {
    "name": "ipython",
    "version": 3
   },
   "file_extension": ".py",
   "mimetype": "text/x-python",
   "name": "python",
   "nbconvert_exporter": "python",
   "pygments_lexer": "ipython3",
   "version": "3.8.3"
  }
 },
 "nbformat": 4,
 "nbformat_minor": 4
}
